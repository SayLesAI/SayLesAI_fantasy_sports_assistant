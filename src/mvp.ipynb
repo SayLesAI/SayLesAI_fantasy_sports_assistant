{
 "cells": [
  {
   "cell_type": "markdown",
   "metadata": {},
   "source": [
    "## Final Project: Fantasy Sports Assistant "
   ]
  },
  {
   "cell_type": "markdown",
   "metadata": {},
   "source": [
    "#### 1.1 Handle imports up-front \n"
   ]
  },
  {
   "cell_type": "code",
   "execution_count": 3,
   "metadata": {},
   "outputs": [],
   "source": [
    "import urllib.request\n",
    "import pandas as pd\n",
    "from bs4 import BeautifulSoup "
   ]
  },
  {
   "cell_type": "markdown",
   "metadata": {},
   "source": [
    "#### 2.0 Load the Dataset\n"
   ]
  },
  {
   "cell_type": "code",
   "execution_count": 4,
   "metadata": {},
   "outputs": [
    {
     "ename": "NameError",
     "evalue": "name 'requests' is not defined",
     "output_type": "error",
     "traceback": [
      "\u001b[0;31m---------------------------------------------------------------------------\u001b[0m",
      "\u001b[0;31mNameError\u001b[0m                                 Traceback (most recent call last)",
      "Cell \u001b[0;32mIn[4], line 15\u001b[0m\n\u001b[1;32m     12\u001b[0m url \u001b[38;5;241m=\u001b[39m base_url\u001b[38;5;241m.\u001b[39mformat(year, week, week)\n\u001b[1;32m     14\u001b[0m \u001b[38;5;66;03m# Send a GET request to the website\u001b[39;00m\n\u001b[0;32m---> 15\u001b[0m response \u001b[38;5;241m=\u001b[39m \u001b[43mrequests\u001b[49m\u001b[38;5;241m.\u001b[39mget(url)\n\u001b[1;32m     17\u001b[0m \u001b[38;5;66;03m# Check if the request was successful\u001b[39;00m\n\u001b[1;32m     18\u001b[0m \u001b[38;5;28;01mif\u001b[39;00m response\u001b[38;5;241m.\u001b[39mstatus_code \u001b[38;5;241m==\u001b[39m \u001b[38;5;241m200\u001b[39m:\n",
      "\u001b[0;31mNameError\u001b[0m: name 'requests' is not defined"
     ]
    }
   ],
   "source": [
    "\n",
    "# Base URL for scraping, leaving the year and week range variables\n",
    "base_url = \"https://www.footballguys.com/playerhistoricalstats?pos=flex&yr={}&startwk={}&stopwk={}&profile=pi\"\n",
    "\n",
    "# Initialize a list to hold all the player data across years and weeks\n",
    "all_player_data = []\n",
    "\n",
    "# Loop over years from 1996 to 2024\n",
    "for year in range(1996, 2025):  # From 1996 to 2024 (inclusive)\n",
    "    # Loop over weeks 1 to 18\n",
    "    for week in range(1, 19):  # Week 1 to Week 18\n",
    "        # Format the URL with the current year, startwk, and stopwk\n",
    "        url = base_url.format(year, week, week)\n",
    "        \n",
    "        # Send a GET request to the website\n",
    "        response = requests.get(url)\n",
    "        \n",
    "        # Check if the request was successful\n",
    "        if response.status_code == 200:\n",
    "            print(f\"Successfully fetched data for Week {week} of Year {year}!\")\n",
    "        else:\n",
    "            print(f\"Failed to retrieve data for Week {week} of Year {year} with status code {response.status_code}\")\n",
    "            continue  # Skip this week if there's an issue\n",
    "        \n",
    "        # Parse the page content using BeautifulSoup\n",
    "        soup = BeautifulSoup(response.text, 'html.parser')\n",
    "\n",
    "        # Find the table containing the player stats (you may need to adjust the selector)\n",
    "        table = soup.find('table')  # Modify this selector based on the page structure\n",
    "\n",
    "        # If the table exists, proceed with scraping the rows\n",
    "        if table:\n",
    "            rows = table.find_all('tr')\n",
    "\n",
    "            # Iterate through each row (skip header row) and extract the required data\n",
    "            for row in rows[1:]:  # Skip the first row (header row)\n",
    "                cols = row.find_all('td')\n",
    "\n",
    "                # Check if there are enough columns in the row (to avoid index errors)\n",
    "                if len(cols) > 1:  # Ensure there's at least a Player and Position column\n",
    "                    # Extract the player name, position, and points (adjust index based on table structure)\n",
    "                    player_name = cols[0].text.strip()   # Player Name in first column\n",
    "                    position = cols[1].text.strip()      # Position in second column\n",
    "                    points = cols[2].text.strip() if len(cols) > 2 else None  # Points in third column (adjust index)\n",
    "\n",
    "                    # Store player info in a dictionary, including Year and Week\n",
    "                    player_info = {\n",
    "                        \"Year\": year,\n",
    "                        \"Week\": week,\n",
    "                        \"Player\": player_name,\n",
    "                        \"Position\": position,\n",
    "                        \"Points\": points  \n",
    "                    }\n",
    "\n",
    "                    # Append player info to all_player_data list\n",
    "                    all_player_data.append(player_info)\n",
    "        else:\n",
    "            print(f\"Table not found for Week {week} of Year {year}\")\n",
    "\n",
    "# Convert the list of player data into a pandas DataFrame\n",
    "df = pd.DataFrame(all_player_data)\n",
    "\n",
    "# Display the first few rows of the combined data\n",
    "print(df.head())\n",
    "\n",
    "# Optionally, save the data to a CSV file\n",
    "df.to_csv('player_stats_1996_to_2024.csv', index=False)"
   ]
  },
  {
   "cell_type": "code",
   "execution_count": 55,
   "metadata": {},
   "outputs": [
    {
     "name": "stdout",
     "output_type": "stream",
     "text": [
      "                                Position  Points\n",
      "Player Year Week                                \n",
      "1      2024 18          Jahmyr Gibbs DET    22.0\n",
      "10     2024 18         De'Von Achane MIA    23.0\n",
      "100    2024 18           Chris Conley SF    32.0\n",
      "101    2024 18       KaVontae Turpin DAL    28.0\n",
      "102    2024 18        Dallas Goedert PHI    29.0\n",
      "...                                  ...     ...\n",
      "95     2024 18          Tony Pollard TEN    27.0\n",
      "96     2024 18         Antonio Gibson NE    26.0\n",
      "97     2024 18    Travis Etienne Jr. JAX    25.0\n",
      "98     2024 18       Brenton Strange JAX    24.0\n",
      "99     2024 18           Chris Brooks GB    24.0\n",
      "\n",
      "[344 rows x 2 columns]\n"
     ]
    }
   ],
   "source": [
    "print(df)"
   ]
  },
  {
   "cell_type": "code",
   "execution_count": 57,
   "metadata": {},
   "outputs": [
    {
     "name": "stdout",
     "output_type": "stream",
     "text": [
      "Index(['Position', 'Points'], dtype='object')\n"
     ]
    }
   ],
   "source": [
    "print(df.columns)"
   ]
  },
  {
   "cell_type": "markdown",
   "metadata": {},
   "source": [
    "### 3.0  Data Transformation - Time Series Data for Players"
   ]
  },
  {
   "cell_type": "code",
   "execution_count": 50,
   "metadata": {},
   "outputs": [
    {
     "name": "stdout",
     "output_type": "stream",
     "text": [
      "                            Position Points\n",
      "Player Year Week                           \n",
      "1      1996 1        Terry Allen WAS   28.0\n",
      "            2       Eddie George HOU   23.0\n",
      "            3       Curtis Martin NE   23.0\n",
      "            4     LeShon Johnson ARI   25.0\n",
      "            5        Terry Allen WAS   28.0\n"
     ]
    }
   ],
   "source": [
    "# Set the multi-index with 'Player', 'Year', and 'Week'\n",
    "df.set_index(['Player', 'Year', 'Week'], inplace=True)\n",
    "\n",
    "# Sort the DataFrame by the new multi-index\n",
    "df.sort_index(inplace=True)\n",
    "\n",
    "# Display the DataFrame to confirm the changes\n",
    "print(df.head())"
   ]
  },
  {
   "cell_type": "code",
   "execution_count": 51,
   "metadata": {},
   "outputs": [
    {
     "name": "stdout",
     "output_type": "stream",
     "text": [
      "   Year  Week Player             Position Points\n",
      "0  2024    18      1     Jahmyr Gibbs DET   22.0\n",
      "1  2024    18      2     Drake London ATL   23.0\n",
      "2  2024    18      3   Bijan Robinson ATL   22.0\n",
      "3  2024    18      4    Derrick Henry BAL   30.0\n",
      "4  2024    18      5  Jonathan Taylor IND   25.0\n"
     ]
    }
   ],
   "source": [
    "# Initialize an empty list to hold player data\n",
    "all_player_data = []\n",
    "\n",
    "# Example loop to add player data\n",
    "for row in rows[1:]:\n",
    "    cols = row.find_all('td')\n",
    "    if len(cols) > 1:\n",
    "        player_info = {\n",
    "            \"Year\": year,\n",
    "            \"Week\": week,\n",
    "            \"Player\": cols[0].text.strip(),\n",
    "            \"Position\": cols[1].text.strip(),\n",
    "            \"Points\": cols[2].text.strip() if len(cols) > 2 else None\n",
    "        }\n",
    "        # Append to the list (not DataFrame directly)\n",
    "        all_player_data.append(player_info)\n",
    "\n",
    "# Convert list of player data to DataFrame at the end\n",
    "df = pd.DataFrame(all_player_data)\n",
    "\n",
    "# Display the DataFrame\n",
    "print(df.head())"
   ]
  },
  {
   "cell_type": "code",
   "execution_count": 52,
   "metadata": {},
   "outputs": [
    {
     "name": "stdout",
     "output_type": "stream",
     "text": [
      "                         Position  Points\n",
      "Player Year Week                         \n",
      "99     2024 18    Chris Brooks GB    24.0\n"
     ]
    }
   ],
   "source": [
    "print(player_data)"
   ]
  },
  {
   "cell_type": "code",
   "execution_count": 53,
   "metadata": {},
   "outputs": [
    {
     "name": "stdout",
     "output_type": "stream",
     "text": [
      "                             Position  Points\n",
      "Player Year Week                             \n",
      "1      2024 18       Jahmyr Gibbs DET    22.0\n",
      "10     2024 18      De'Von Achane MIA    23.0\n",
      "100    2024 18        Chris Conley SF    32.0\n",
      "101    2024 18    KaVontae Turpin DAL    28.0\n",
      "102    2024 18     Dallas Goedert PHI    29.0\n",
      "Empty DataFrame\n",
      "Columns: [Week_Points, Next_Week_Points]\n",
      "Index: []\n"
     ]
    }
   ],
   "source": [
    "df['Points'] = pd.to_numeric(df['Points'], errors='coerce')\n",
    "\n",
    "# Step 2: Set multi-index with 'Player', 'Year', and 'Week'\n",
    "df.set_index(['Player', 'Year', 'Week'], inplace=True)\n",
    "\n",
    "# Sort the DataFrame for better visualization and chronological order\n",
    "df.sort_index(inplace=True)\n",
    "\n",
    "# Display the first few rows to verify the DataFrame structure\n",
    "print(df.head())\n",
    "\n",
    "# Step 3: Loop through the data to create input-output pairs\n",
    "input_features = []\n",
    "output_labels = []\n",
    "\n",
    "# Loop through each player and year to create time-series pairs\n",
    "for player, player_data in df.groupby('Player'):\n",
    "    for year, year_data in player_data.groupby('Year'):\n",
    "        # Sort by week to ensure the data is in chronological order\n",
    "        year_data = year_data.sort_values('Week')\n",
    "\n",
    "        # Create input-output pairs for consecutive weeks\n",
    "        for i in range(len(year_data) - 1):\n",
    "            # Current week's points as input feature\n",
    "            input_row = year_data.iloc[i]['Points']\n",
    "\n",
    "            # Next week's points as output label\n",
    "            output_row = year_data.iloc[i + 1]['Points']\n",
    "\n",
    "            # Append the features and labels\n",
    "            input_features.append(input_row)\n",
    "            output_labels.append(output_row)\n",
    "\n",
    "# Step 4: Combine input features and output labels into a final DataFrame\n",
    "features_df = pd.DataFrame(input_features, columns=['Week_Points'])\n",
    "labels_df = pd.DataFrame(output_labels, columns=['Next_Week_Points'])\n",
    "\n",
    "# Combine both features and labels into a final DataFrame\n",
    "final_df = pd.concat([features_df, labels_df], axis=1)\n",
    "\n",
    "# Display the first few rows of the final dataset\n",
    "print(final_df.head())\n",
    "\n",
    "# Optionally, save the data to a CSV file\n",
    "final_df.to_csv('qb_player_stats_2024_input_output.csv', index=False)"
   ]
  },
  {
   "cell_type": "code",
   "execution_count": 54,
   "metadata": {},
   "outputs": [
    {
     "name": "stdout",
     "output_type": "stream",
     "text": [
      "(0, 1) (0, 1)\n"
     ]
    }
   ],
   "source": [
    "# If needed, convert to numpy arrays for machine learning models\n",
    "import numpy as np\n",
    "features_array = np.array(features_df)\n",
    "labels_array = np.array(labels_df)\n",
    "\n",
    "# Check the shapes of the arrays\n",
    "print(features_array.shape, labels_array.shape)"
   ]
  },
  {
   "cell_type": "markdown",
   "metadata": {},
   "source": [
    "#### 2.0 EDA "
   ]
  },
  {
   "cell_type": "markdown",
   "metadata": {},
   "source": [
    "### 2.1 Missing and/or extreme values "
   ]
  }
 ],
 "metadata": {
  "kernelspec": {
   "display_name": "Python 3",
   "language": "python",
   "name": "python3"
  },
  "language_info": {
   "codemirror_mode": {
    "name": "ipython",
    "version": 3
   },
   "file_extension": ".py",
   "mimetype": "text/x-python",
   "name": "python",
   "nbconvert_exporter": "python",
   "pygments_lexer": "ipython3",
   "version": "3.10.12"
  }
 },
 "nbformat": 4,
 "nbformat_minor": 2
}
